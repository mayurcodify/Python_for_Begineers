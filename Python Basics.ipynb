{
 "cells": [
  {
   "cell_type": "code",
   "execution_count": 1,
   "metadata": {},
   "outputs": [
    {
     "name": "stdout",
     "output_type": "stream",
     "text": [
      "3.7.3\n"
     ]
    }
   ],
   "source": [
    "from platform import python_version\n",
    "print(python_version())"
   ]
  },
  {
   "cell_type": "code",
   "execution_count": 11,
   "metadata": {
    "scrolled": true
   },
   "outputs": [
    {
     "name": "stdout",
     "output_type": "stream",
     "text": [
      "Hello world\n"
     ]
    }
   ],
   "source": [
    "print(\"Hello world\")"
   ]
  },
  {
   "cell_type": "code",
   "execution_count": 13,
   "metadata": {
    "scrolled": true
   },
   "outputs": [
    {
     "name": "stdout",
     "output_type": "stream",
     "text": [
      "Amit\n",
      "AMIT\n",
      "Amit\n"
     ]
    }
   ],
   "source": [
    "name = 'Amit'\n",
    "print(name)\n",
    "print(name.upper())\n",
    "print(name.title())"
   ]
  },
  {
   "cell_type": "code",
   "execution_count": 5,
   "metadata": {},
   "outputs": [
    {
     "name": "stdout",
     "output_type": "stream",
     "text": [
      "Amit Singh\n"
     ]
    }
   ],
   "source": [
    "fst_nme = 'Amit'\n",
    "snd_nme = 'Singh'\n",
    "\n",
    "full_nme = f'{fst_nme} {snd_nme}'\n",
    "print(full_nme)"
   ]
  },
  {
   "cell_type": "code",
   "execution_count": 6,
   "metadata": {},
   "outputs": [
    {
     "name": "stdout",
     "output_type": "stream",
     "text": [
      "Amit \n",
      "Singh\n"
     ]
    }
   ],
   "source": [
    "full_nme = f'{fst_nme} \\n{snd_nme}'\n",
    "print(full_nme)"
   ]
  },
  {
   "cell_type": "code",
   "execution_count": 21,
   "metadata": {},
   "outputs": [
    {
     "name": "stdout",
     "output_type": "stream",
     "text": [
      "['pizza', 'burger', 'hotdog', 'momos', 'dosa', 'dabeli', 'sev puri', 'fruit chat']\n",
      "burger\n",
      "Momos\n"
     ]
    }
   ],
   "source": [
    "my_list = ['pizza','burger','hotdog','momos','dosa','dabeli','sev puri','fruit chat']\n",
    "print(my_list)\n",
    "print(my_list[1])\n",
    "print(my_list[3].title())"
   ]
  },
  {
   "cell_type": "code",
   "execution_count": 6,
   "metadata": {},
   "outputs": [
    {
     "data": {
      "text/plain": [
       "['pizza', 'burger', 'hotdog']"
      ]
     },
     "execution_count": 6,
     "metadata": {},
     "output_type": "execute_result"
    }
   ],
   "source": [
    "my_list[0:3]"
   ]
  },
  {
   "cell_type": "code",
   "execution_count": 7,
   "metadata": {},
   "outputs": [
    {
     "data": {
      "text/plain": [
       "['burger', 'hotdog', 'momos', 'dosa', 'dabeli', 'sev puri', 'fruit chat']"
      ]
     },
     "execution_count": 7,
     "metadata": {},
     "output_type": "execute_result"
    }
   ],
   "source": [
    "my_list[1:]"
   ]
  },
  {
   "cell_type": "code",
   "execution_count": 8,
   "metadata": {},
   "outputs": [
    {
     "data": {
      "text/plain": [
       "['hotdog', 'momos']"
      ]
     },
     "execution_count": 8,
     "metadata": {},
     "output_type": "execute_result"
    }
   ],
   "source": [
    "my_list[2:4]"
   ]
  },
  {
   "cell_type": "code",
   "execution_count": 9,
   "metadata": {},
   "outputs": [
    {
     "data": {
      "text/plain": [
       "['pizza', 'burger', 'hotdog', 'momos']"
      ]
     },
     "execution_count": 9,
     "metadata": {},
     "output_type": "execute_result"
    }
   ],
   "source": [
    "my_list[:4]"
   ]
  },
  {
   "cell_type": "code",
   "execution_count": 10,
   "metadata": {},
   "outputs": [
    {
     "data": {
      "text/plain": [
       "['pizza', 'hotdog', 'dosa', 'sev puri']"
      ]
     },
     "execution_count": 10,
     "metadata": {},
     "output_type": "execute_result"
    }
   ],
   "source": [
    "my_list[::2]"
   ]
  },
  {
   "cell_type": "code",
   "execution_count": 11,
   "metadata": {},
   "outputs": [
    {
     "data": {
      "text/plain": [
       "['fruit chat',\n",
       " 'sev puri',\n",
       " 'dabeli',\n",
       " 'dosa',\n",
       " 'momos',\n",
       " 'hotdog',\n",
       " 'burger',\n",
       " 'pizza']"
      ]
     },
     "execution_count": 11,
     "metadata": {},
     "output_type": "execute_result"
    }
   ],
   "source": [
    "my_list[::-1]"
   ]
  },
  {
   "cell_type": "code",
   "execution_count": 12,
   "metadata": {},
   "outputs": [
    {
     "data": {
      "text/plain": [
       "['fruit chat', 'dabeli', 'momos', 'burger']"
      ]
     },
     "execution_count": 12,
     "metadata": {},
     "output_type": "execute_result"
    }
   ],
   "source": [
    "my_list[::-2]"
   ]
  },
  {
   "cell_type": "code",
   "execution_count": 13,
   "metadata": {},
   "outputs": [
    {
     "data": {
      "text/plain": [
       "['fruit chat', 'dabeli', 'momos', 'burger']"
      ]
     },
     "execution_count": 13,
     "metadata": {},
     "output_type": "execute_result"
    }
   ],
   "source": [
    "my_list[-1::-2]"
   ]
  },
  {
   "cell_type": "code",
   "execution_count": 14,
   "metadata": {},
   "outputs": [
    {
     "data": {
      "text/plain": [
       "['fruit chat', 'dabeli']"
      ]
     },
     "execution_count": 14,
     "metadata": {},
     "output_type": "execute_result"
    }
   ],
   "source": [
    "my_list[-1:3:-2]"
   ]
  },
  {
   "cell_type": "code",
   "execution_count": 17,
   "metadata": {},
   "outputs": [
    {
     "name": "stdout",
     "output_type": "stream",
     "text": [
      "['pizza', 'burger', 'hotdog', 'momos', 'dosa', 'dabeli', 'sev puri', 'fruit chat', 'noodles', 'noodles']\n"
     ]
    }
   ],
   "source": [
    "# append insert the item at a end of the list:\n",
    "my_list.append(\"noodles\")\n",
    "print(my_list)"
   ]
  },
  {
   "cell_type": "code",
   "execution_count": 18,
   "metadata": {},
   "outputs": [
    {
     "name": "stdout",
     "output_type": "stream",
     "text": [
      "['pizza', 'burger', 'hotdog', 'momos', 'dosa', 'dabeli', 'sev puri', 'fruit chat', 'noodles']\n"
     ]
    }
   ],
   "source": [
    "# remove removes the first matching value, not a specific index:\n",
    "# remove - Takes value, removes first occurrence, and returns nothing\n",
    "my_list.remove(\"noodles\")\n",
    "print(my_list)"
   ]
  },
  {
   "cell_type": "code",
   "execution_count": 35,
   "metadata": {},
   "outputs": [
    {
     "name": "stdout",
     "output_type": "stream",
     "text": [
      "['pizza', 'dabeli', 'sev puri', 'fruit chat', 'noodles']\n"
     ]
    }
   ],
   "source": [
    "# pop removes the item at a specific index and returns it\n",
    "# pop - Takes Index and returns Value\n",
    "my_list.pop(1)\n",
    "print(my_list)"
   ]
  },
  {
   "cell_type": "code",
   "execution_count": 29,
   "metadata": {},
   "outputs": [
    {
     "name": "stdout",
     "output_type": "stream",
     "text": [
      "['pizza', 'hotdog', 'momos', 'burger', 'dosa', 'dabeli', 'sev puri', 'fruit chat', 'noodles']\n"
     ]
    }
   ],
   "source": [
    "# insert insert the item at a specific index:\n",
    "my_list.insert(3,'burger')\n",
    "print(my_list)"
   ]
  },
  {
   "cell_type": "code",
   "execution_count": 32,
   "metadata": {},
   "outputs": [
    {
     "name": "stdout",
     "output_type": "stream",
     "text": [
      "['pizza', 'hotdog', 'burger', 'dosa', 'dabeli', 'sev puri', 'fruit chat', 'noodles']\n"
     ]
    }
   ],
   "source": [
    "# del removes the item at a specific index:\n",
    "# delete - Takes index, removes value at that index, and returns nothing\n",
    "del my_list[2]\n",
    "print(my_list)"
   ]
  },
  {
   "cell_type": "code",
   "execution_count": null,
   "metadata": {
    "collapsed": true
   },
   "outputs": [],
   "source": [
    "# del (list): delete the whole list\n",
    "# del (my_list)"
   ]
  },
  {
   "cell_type": "code",
   "execution_count": 16,
   "metadata": {},
   "outputs": [
    {
     "name": "stdout",
     "output_type": "stream",
     "text": [
      "Origional list: ['pizza', 'burger', 'hotdog', 'momos', 'dosa', 'dabeli', 'sev puri', 'fruit chat']\n",
      "Sorted list: ['burger', 'dabeli', 'dosa', 'fruit chat', 'hotdog', 'momos', 'pizza', 'sev puri']\n",
      "\n",
      "\n",
      "Origional list: ['pizza', 'burger', 'hotdog', 'momos', 'dosa', 'dabeli', 'sev puri', 'fruit chat']\n",
      "Sorted list: ['burger', 'dabeli', 'dosa', 'fruit chat', 'hotdog', 'momos', 'pizza', 'sev puri']\n"
     ]
    },
    {
     "data": {
      "text/plain": [
       "['burger',\n",
       " 'dabeli',\n",
       " 'dosa',\n",
       " 'fruit chat',\n",
       " 'hotdog',\n",
       " 'momos',\n",
       " 'pizza',\n",
       " 'sev puri']"
      ]
     },
     "execution_count": 16,
     "metadata": {},
     "output_type": "execute_result"
    }
   ],
   "source": [
    "# sort() doesn't return any value while, sorted() returns an iterable list.\n",
    "# a.sort() and sorted(a)\n",
    "\n",
    "my_list = ['pizza','burger','hotdog','momos','dosa','dabeli','sev puri','fruit chat']\n",
    "print('Origional list: ' f'{my_list}')\n",
    "my_list.sort()\n",
    "print('Sorted list: ' f'{my_list}')\n",
    "\n",
    "print('\\n')\n",
    "\n",
    "my_list = ['pizza','burger','hotdog','momos','dosa','dabeli','sev puri','fruit chat']\n",
    "print('Origional list: 'f'{my_list}')\n",
    "print('Sorted list: ' f'{sorted(my_list)}')\n",
    "sorted(my_list)"
   ]
  },
  {
   "cell_type": "code",
   "execution_count": 19,
   "metadata": {},
   "outputs": [
    {
     "name": "stdout",
     "output_type": "stream",
     "text": [
      "Reversed list: ['fruit chat', 'sev puri', 'dabeli', 'dosa', 'momos', 'hotdog', 'burger', 'pizza']\n",
      "['fruit chat', 'sev puri', 'dabeli', 'dosa', 'momos', 'hotdog', 'burger', 'pizza']\n"
     ]
    }
   ],
   "source": [
    "my_list = ['pizza','burger','hotdog','momos','dosa','dabeli','sev puri','fruit chat']\n",
    "my_list.reverse()\n",
    "print('Reversed list: ' f'{my_list}')\n",
    "print(my_list)"
   ]
  },
  {
   "cell_type": "code",
   "execution_count": 45,
   "metadata": {},
   "outputs": [
    {
     "name": "stdout",
     "output_type": "stream",
     "text": [
      "['lion', 'tiger', 'horse', 'deer']\n"
     ]
    }
   ],
   "source": [
    "# copy method\n",
    "list =['lion','tiger','horse','deer']\n",
    "Animals=list.copy()\n",
    "print(Animals)"
   ]
  },
  {
   "cell_type": "code",
   "execution_count": 46,
   "metadata": {},
   "outputs": [
    {
     "name": "stdout",
     "output_type": "stream",
     "text": [
      "['crow', 'eagle', 'peacock', 'sparrow']\n"
     ]
    }
   ],
   "source": [
    "animals=['lion','tiger','horse','deer']\n",
    "birds=['crow','eagle','peacock','sparrow']\n",
    "animals=birds[:]\n",
    "print(animals)"
   ]
  },
  {
   "cell_type": "code",
   "execution_count": 47,
   "metadata": {},
   "outputs": [
    {
     "name": "stdout",
     "output_type": "stream",
     "text": [
      "['lion', 'tiger', 'horse', 'deer', 'crow', 'eagle', 'peacock', 'sparrow']\n"
     ]
    }
   ],
   "source": [
    "# Merge method\n",
    "\n",
    "animals=['lion','tiger','horse','deer']\n",
    "birds=['crow','eagle','peacock','sparrow']\n",
    "merged_list= animals + birds\n",
    "print(merged_list)"
   ]
  },
  {
   "cell_type": "code",
   "execution_count": 48,
   "metadata": {},
   "outputs": [
    {
     "name": "stdout",
     "output_type": "stream",
     "text": [
      "['lion', 'tiger', 'horse', 'deer', 'crow', 'eagle', 'peacock', 'sparrow']\n"
     ]
    }
   ],
   "source": [
    "# extedning the list\n",
    "\n",
    "animals=['lion','tiger','horse','deer']\n",
    "birds=['crow','eagle','peacock','sparrow']\n",
    "animals.extend(birds)\n",
    "print(animals)"
   ]
  },
  {
   "cell_type": "code",
   "execution_count": 38,
   "metadata": {},
   "outputs": [
    {
     "name": "stdout",
     "output_type": "stream",
     "text": [
      "pizza , PIZZA , Pizza\n",
      "burger , BURGER , Burger\n",
      "hotdog , HOTDOG , Hotdog\n",
      "momos , MOMOS , Momos\n",
      "dosa , DOSA , Dosa\n",
      "dabeli , DABELI , Dabeli\n",
      "sev puri , SEV PURI , Sev Puri\n",
      "fruit chat , FRUIT CHAT , Fruit Chat\n"
     ]
    }
   ],
   "source": [
    "#for loop\n",
    "\n",
    "my_list = ['pizza','burger','hotdog','momos','dosa','dabeli','sev puri','fruit chat']\n",
    "\n",
    "for i in my_list:\n",
    "    print(i,',',i.upper(),',',i.title())"
   ]
  },
  {
   "cell_type": "code",
   "execution_count": 41,
   "metadata": {},
   "outputs": [
    {
     "name": "stdout",
     "output_type": "stream",
     "text": [
      "1\n",
      "2\n",
      "3\n",
      "4\n",
      "5\n",
      "6\n",
      "7\n",
      "8\n",
      "9\n"
     ]
    }
   ],
   "source": [
    "numbers = [10,20,30,40,50,60,70,80,90]\n",
    "\n",
    "for num in numbers:\n",
    "    print(int(num/10))"
   ]
  },
  {
   "cell_type": "code",
   "execution_count": 42,
   "metadata": {},
   "outputs": [
    {
     "name": "stdout",
     "output_type": "stream",
     "text": [
      "27\n",
      "64\n",
      "125\n",
      "216\n",
      "343\n",
      "512\n"
     ]
    }
   ],
   "source": [
    "squares=[]\n",
    "for x in range(3,9):\n",
    "     values=(x**3)\n",
    "     print(values)"
   ]
  },
  {
   "cell_type": "code",
   "execution_count": 43,
   "metadata": {},
   "outputs": [
    {
     "name": "stdout",
     "output_type": "stream",
     "text": [
      "[243]\n",
      "[243, 1024]\n",
      "[243, 1024, 3125]\n",
      "[243, 1024, 3125, 7776]\n",
      "[243, 1024, 3125, 7776, 16807]\n",
      "[243, 1024, 3125, 7776, 16807, 32768]\n"
     ]
    }
   ],
   "source": [
    "squares=[]\n",
    "for x in range(3,9):\n",
    "    values=(x**5)\n",
    "    squares.append(values)\n",
    "    print(squares)"
   ]
  },
  {
   "cell_type": "code",
   "execution_count": 44,
   "metadata": {},
   "outputs": [
    {
     "name": "stdout",
     "output_type": "stream",
     "text": [
      "toyota\n",
      "tata\n",
      "mercedes\n"
     ]
    }
   ],
   "source": [
    "cars= ['audi','bmw','toyota','tata','mercedes','honda','maruti']\n",
    "\n",
    "for car in cars[2:5]:\n",
    "    print(car)"
   ]
  },
  {
   "cell_type": "code",
   "execution_count": 23,
   "metadata": {
    "scrolled": true
   },
   "outputs": [
    {
     "name": "stdout",
     "output_type": "stream",
     "text": [
      "200\n",
      "300\n",
      "400\n"
     ]
    }
   ],
   "source": [
    "#tuples\n",
    "dimensions=(200,300,400)\n",
    "for dimension in dimensions:\n",
    "    print(dimension)"
   ]
  },
  {
   "cell_type": "code",
   "execution_count": 24,
   "metadata": {},
   "outputs": [
    {
     "name": "stdout",
     "output_type": "stream",
     "text": [
      "500\n",
      "600\n",
      "700\n"
     ]
    }
   ],
   "source": [
    "#tuples\n",
    "dimensions=(500,600,700)\n",
    "for dimension in dimensions:\n",
    "    print(dimension)"
   ]
  },
  {
   "cell_type": "code",
   "execution_count": 29,
   "metadata": {},
   "outputs": [
    {
     "name": "stdout",
     "output_type": "stream",
     "text": [
      "audi\n",
      "bmw\n",
      "TOYOTA\n",
      "tata\n",
      "mercedes\n",
      "honda\n",
      "maruti\n"
     ]
    }
   ],
   "source": [
    "# if statement\n",
    "cars= ['audi','bmw','toyota','tata','mercedes','honda','maruti']\n",
    "\n",
    "for car in cars:\n",
    "    if car=='toyota':\n",
    "        print(car.upper())\n",
    "    else:\n",
    "        print(car.lower())"
   ]
  },
  {
   "cell_type": "code",
   "execution_count": 30,
   "metadata": {},
   "outputs": [
    {
     "name": "stdout",
     "output_type": "stream",
     "text": [
      "AUDI\n",
      "BMW\n",
      "toyota\n",
      "TATA\n",
      "MERCEDES\n",
      "HONDA\n",
      "MARUTI\n"
     ]
    }
   ],
   "source": [
    "# if statement ---- ! statement\n",
    "cars= ['audi','bmw','toyota','tata','mercedes','honda','maruti']\n",
    "\n",
    "for car in cars:\n",
    "    if car!='toyota':\n",
    "        print(car.upper())\n",
    "    else:\n",
    "        print(car.lower())"
   ]
  },
  {
   "cell_type": "code",
   "execution_count": 51,
   "metadata": {},
   "outputs": [
    {
     "name": "stdout",
     "output_type": "stream",
     "text": [
      "sparrow\n",
      "black\n",
      "5\n"
     ]
    }
   ],
   "source": [
    "# dictionaries -- Mutable, values can be reassigned after declaration of variables, Key value pair\n",
    "dict={'bird':'sparrow','color':'black','point':'5'}\n",
    "print(dict['bird'])\n",
    "print(dict['color'])\n",
    "print(dict['point'])"
   ]
  },
  {
   "cell_type": "code",
   "execution_count": null,
   "metadata": {},
   "outputs": [],
   "source": []
  }
 ],
 "metadata": {
  "kernelspec": {
   "display_name": "Python 3",
   "language": "python",
   "name": "python3"
  },
  "language_info": {
   "codemirror_mode": {
    "name": "ipython",
    "version": 3
   },
   "file_extension": ".py",
   "mimetype": "text/x-python",
   "name": "python",
   "nbconvert_exporter": "python",
   "pygments_lexer": "ipython3",
   "version": "3.7.3"
  }
 },
 "nbformat": 4,
 "nbformat_minor": 2
}
